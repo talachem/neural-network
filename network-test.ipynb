{
 "cells": [
  {
   "attachments": {},
   "cell_type": "markdown",
   "metadata": {},
   "source": [
    "# Testing the Network\n",
    "\n",
    "## Importing the Basics"
   ]
  },
  {
   "cell_type": "code",
   "execution_count": 1,
   "metadata": {},
   "outputs": [],
   "source": [
    "import numpy as np\n",
    "from matplotlib import pyplot as plt\n",
    "from machineLearning.nn.module import Sequential\n",
    "from machineLearning.nn.optim import SGD, SGDMomentum, NesterovMomentum, AdaGrad, AdaDelta, RMSprop, Adam\n",
    "from machineLearning.nn.scheduler import ExponentialLR, SteppedLR, CyclicalLR\n",
    "from machineLearning.nn.loss import CrossEntropyLoss, MSELoss, NLLLoss, MAELoss, FocalLoss\n",
    "from machineLearning.data import Data\n",
    "from machineLearning.metric import ConfusionMatrix, Observables\n",
    "from machineLearning import ModelIO, Progressbar\n",
    "from machineLearning.nn.layer import (\n",
    "    Linear, Dropout, Flatten, Convolution2D, Unsqueeze,\n",
    "    BatchNorm1D, BatchNorm2D,\n",
    "    Tanh, SoftMax, Sigmoid, SoftPlus, Relu, Elu, LeakyRelu, SoftSign, Identity\n",
    ")\n",
    "from machineLearning.nn import Quantizer"
   ]
  },
  {
   "attachments": {},
   "cell_type": "markdown",
   "metadata": {},
   "source": [
    "## Generating Test Data\n",
    "\n",
    "Simple data set of 9x9 matrices with one somewhere down or along the matrix. This is for testing purposses only.\n",
    "\n",
    "### Generating Data"
   ]
  },
  {
   "cell_type": "code",
   "execution_count": 2,
   "metadata": {},
   "outputs": [],
   "source": [
    "categories = 4\n",
    "data = Data(trainAmount=6400, evalAmount=3200, batchSize=128, kFold=4, dataPath='datafiles')\n",
    "data.generateTestData(categories)"
   ]
  },
  {
   "cell_type": "code",
   "execution_count": 3,
   "metadata": {},
   "outputs": [
    {
     "data": {
      "text/plain": [
       "<matplotlib.image.AxesImage at 0x1112ba000>"
      ]
     },
     "execution_count": 3,
     "metadata": {},
     "output_type": "execute_result"
    },
    {
     "data": {
      "image/png": "[encoded data removed]",
      "text/plain": [
       "<Figure size 640x480 with 1 Axes>"
      ]
     },
     "metadata": {},
     "output_type": "display_data"
    }
   ],
   "source": [
    "plt.imshow(data.trainSet.data[0])"
   ]
  },
  {
   "attachments": {},
   "cell_type": "markdown",
   "metadata": {},
   "source": [
    "## Creating a Sequential\n",
    "\n",
    "This contains a list of layers, that are worked through one by one. Here I add a learning layer and after it an activation layer."
   ]
  },
  {
   "cell_type": "code",
   "execution_count": 4,
   "metadata": {},
   "outputs": [],
   "source": [
    "convolution = True\n",
    "dropout = 0.35\n",
    "norming = False\n",
    "numLayers = 5"
   ]
  },
  {
   "cell_type": "code",
   "execution_count": 5,
   "metadata": {},
   "outputs": [
    {
     "name": "stdout",
     "output_type": "stream",
     "text": [
      "(0) Unsqueeze    into shape: (1, 9, 9)\n",
      "(1) Convolution2D    input channels: 1    output channels: 3    kernel size: (3, 3)    padding: (0, 0)    stride: (1, 1)\n",
      "(2) Tanh\n",
      "(3) Flatten\n",
      "(4) Linear    input size: 147    output size: 147\n",
      "(5) Dropout    size: 147    probability: 0.35\n",
      "(6) Tanh\n",
      "(7) Linear    input size: 147    output size: 147\n",
      "(8) Dropout    size: 147    probability: 0.35\n",
      "(9) Tanh\n",
      "(10) Linear    input size: 147    output size: 147\n",
      "(11) Dropout    size: 147    probability: 0.35\n",
      "(12) Tanh\n",
      "(13) Linear    input size: 147    output size: 147\n",
      "(14) Dropout    size: 147    probability: 0.35\n",
      "(15) Tanh\n",
      "(16) Linear    input size: 147    output size: 4\n",
      "(17) SoftMax\n",
      "\n"
     ]
    }
   ],
   "source": [
    "neurons = 81\n",
    "network = Sequential()\n",
    "if convolution is True:\n",
    "    neurons = 147\n",
    "    network.append(Unsqueeze((1,9,9)))\n",
    "    network.append(Convolution2D(1,3))\n",
    "    network.append(Tanh())\n",
    "    if norming == True:\n",
    "        network.append(BatchNorm2D((3,7,7)))\n",
    "\n",
    "for i in range(numLayers-1):\n",
    "    if i == 0:\n",
    "        network.append(Flatten())\n",
    "    network.append(Linear(neurons,neurons))\n",
    "    network.append(Dropout(neurons,dropout))\n",
    "    network.append(Tanh())\n",
    "    if norming == True:\n",
    "        network.append(BatchNorm1D(neurons))\n",
    "\n",
    "network.append(Linear(neurons,categories))\n",
    "network.append(SoftMax())\n",
    "print(network)"
   ]
  },
  {
   "attachments": {},
   "cell_type": "markdown",
   "metadata": {},
   "source": [
    "## Loss and Optimizer\n",
    "\n",
    "Picking the loss function and initilizing the optimizer by handing over a list of layers."
   ]
  },
  {
   "cell_type": "code",
   "execution_count": 6,
   "metadata": {},
   "outputs": [],
   "source": [
    "loss = 'entropy'\n",
    "optimizer = 'rmsprop'\n",
    "learningRate = 0.001\n",
    "momentum = 0.9\n",
    "schedulerName = 'expo'\n",
    "schedulerBool = False\n",
    "decay = 0.9\n",
    "stepSize = 10"
   ]
  },
  {
   "cell_type": "code",
   "execution_count": 7,
   "metadata": {},
   "outputs": [],
   "source": [
    "if loss == 'entropy':\n",
    "    lossFunc = CrossEntropyLoss()\n",
    "elif loss == 'nllloss':\n",
    "    lossFunc = NLLLoss()\n",
    "elif loss == 'focal':\n",
    "    lossFunc = FocalLoss()\n",
    "\n",
    "if optimizer == 'sgd':\n",
    "    optim = SGD(network, learningRate)\n",
    "elif optimizer == 'momentum':\n",
    "    optim = SGDMomentum(network, learningRate, momentum)\n",
    "elif optimizer == 'nesterov':\n",
    "    optim = NesterovMomentum(network, learningRate, momentum)\n",
    "elif optimizer == 'adagrad':\n",
    "    optim = AdaGrad(network, learningRate)\n",
    "elif optimizer == 'adadelta':\n",
    "    optim = AdaDelta(network, learningRate)\n",
    "elif optimizer == 'rmsprop':\n",
    "    optim = RMSprop(network, learningRate)\n",
    "elif optimizer == 'adam':\n",
    "    optim = Adam(network, learningRate)\n",
    "\n",
    "\n",
    "if schedulerBool == True:\n",
    "    if schedulerName == 'expo':\n",
    "        scheduler = ExponentialLR(optim, decay)\n",
    "    elif schedulerName == 'stepped':\n",
    "        scheduler = SteppedLR(optim, decay, stepSize)\n",
    "    elif schedulerName == 'else':\n",
    "        scheduler = CyclicalLR(optim, 1/5, 15, 5)"
   ]
  },
  {
   "attachments": {},
   "cell_type": "markdown",
   "metadata": {},
   "source": [
    "## Running over Data"
   ]
  },
  {
   "cell_type": "code",
   "execution_count": 8,
   "metadata": {},
   "outputs": [],
   "source": [
    "epochs = 25"
   ]
  },
  {
   "cell_type": "code",
   "execution_count": 9,
   "metadata": {},
   "outputs": [],
   "source": [
    "metrics = Observables(epochs)\n",
    "metrics.addOberservable('losses', 'descending')\n",
    "metrics.addOberservable('validation', 'descending')\n",
    "metrics.addOberservable('accuracy', 'ascending')\n",
    "metrics.addOberservable('learningRate')\n"
   ]
  },
  {
   "cell_type": "code",
   "execution_count": 11,
   "metadata": {},
   "outputs": [
    {
     "name": "stdout",
     "output_type": "stream",
     "text": [
      "epoch 01/25 |\u001b[0m\u001b[31m\u001b[0m\u001b[0m\u001b[31m \u001b[0m                                                 | 00%\r"
     ]
    },
    {
     "name": "stdout",
     "output_type": "stream",
     "text": [
      "losses: \u001b[1m\u001b[37m0.40543\u001b[0m    validation: \u001b[1m\u001b[37m0.06601\u001b[0m    accuracy: \u001b[1m\u001b[37m0.65625\u001b[0m    learningRate: \u001b[1m\u001b[37m0.001\u001b[0m      \n",
      "losses: \u001b[1m\u001b[37m0.26853\u001b[0m    validation: \u001b[1m\u001b[37m0.04042\u001b[0m    accuracy: \u001b[1m\u001b[37m0.89844\u001b[0m    learningRate: \u001b[1m\u001b[37m0.001\u001b[0m      \n",
      "losses: \u001b[1m\u001b[32m0.17346\u001b[0m    validation: \u001b[1m\u001b[32m0.04083\u001b[0m    accuracy: \u001b[1m\u001b[31m0.85156\u001b[0m    learningRate: \u001b[1m\u001b[37m0.001\u001b[0m      \n",
      "losses: \u001b[1m\u001b[32m0.10087\u001b[0m    validation: \u001b[1m\u001b[32m0.01164\u001b[0m    accuracy: \u001b[1m\u001b[31m0.94531\u001b[0m    learningRate: \u001b[1m\u001b[37m0.001\u001b[0m      \n",
      "losses: \u001b[1m\u001b[32m0.06189\u001b[0m    validation: \u001b[1m\u001b[32m0.00336\u001b[0m    accuracy: \u001b[1m\u001b[31m0.99219\u001b[0m    learningRate: \u001b[1m\u001b[37m0.001\u001b[0m      \n",
      "losses: \u001b[1m\u001b[32m0.04818\u001b[0m    validation: \u001b[1m\u001b[33m0.00404\u001b[0m    accuracy: \u001b[1m\u001b[31m0.99219\u001b[0m    learningRate: \u001b[1m\u001b[37m0.001\u001b[0m      \n",
      "losses: \u001b[1m\u001b[32m0.03574\u001b[0m    validation: \u001b[1m\u001b[31m0.0049\u001b[0m     accuracy: \u001b[1m\u001b[31m0.99219\u001b[0m    learningRate: \u001b[1m\u001b[37m0.001\u001b[0m      \n",
      "losses: \u001b[1m\u001b[32m0.03304\u001b[0m    validation: \u001b[1m\u001b[32m0.00166\u001b[0m    accuracy: \u001b[1m\u001b[31m1.0\u001b[0m        learningRate: \u001b[1m\u001b[37m0.001\u001b[0m      \n",
      "losses: \u001b[1m\u001b[32m0.02761\u001b[0m    validation: \u001b[1m\u001b[31m0.00769\u001b[0m    accuracy: \u001b[1m\u001b[31m1.0\u001b[0m        learningRate: \u001b[1m\u001b[37m0.001\u001b[0m      \n",
      "losses: \u001b[1m\u001b[32m0.0237\u001b[0m     validation: \u001b[1m\u001b[31m0.00539\u001b[0m    accuracy: \u001b[1m\u001b[31m0.97656\u001b[0m    learningRate: \u001b[1m\u001b[37m0.001\u001b[0m      \n",
      "losses: \u001b[1m\u001b[32m0.022\u001b[0m      validation: \u001b[1m\u001b[32m0.00094\u001b[0m    accuracy: \u001b[1m\u001b[31m0.99219\u001b[0m    learningRate: \u001b[1m\u001b[37m0.001\u001b[0m      \n",
      "losses: \u001b[1m\u001b[32m0.02155\u001b[0m    validation: \u001b[1m\u001b[33m0.00133\u001b[0m    accuracy: \u001b[1m\u001b[31m1.0\u001b[0m        learningRate: \u001b[1m\u001b[37m0.001\u001b[0m      \n",
      "losses: \u001b[1m\u001b[32m0.0185\u001b[0m     validation: \u001b[1m\u001b[31m0.0097\u001b[0m     accuracy: \u001b[1m\u001b[31m0.98438\u001b[0m    learningRate: \u001b[1m\u001b[37m0.001\u001b[0m      \n",
      "losses: \u001b[1m\u001b[33m0.01858\u001b[0m    validation: \u001b[1m\u001b[33m0.00156\u001b[0m    accuracy: \u001b[1m\u001b[31m0.98438\u001b[0m    learningRate: \u001b[1m\u001b[37m0.001\u001b[0m      \n",
      "losses: \u001b[1m\u001b[31m0.01857\u001b[0m    validation: \u001b[1m\u001b[32m0.00061\u001b[0m    accuracy: \u001b[1m\u001b[31m1.0\u001b[0m        learningRate: \u001b[1m\u001b[37m0.001\u001b[0m      \n",
      "losses: \u001b[1m\u001b[32m0.01574\u001b[0m    validation: \u001b[1m\u001b[31m0.01456\u001b[0m    accuracy: \u001b[1m\u001b[31m0.96094\u001b[0m    learningRate: \u001b[1m\u001b[37m0.001\u001b[0m      \n",
      "losses: \u001b[1m\u001b[33m0.01668\u001b[0m    validation: \u001b[1m\u001b[33m0.00128\u001b[0m    accuracy: \u001b[1m\u001b[31m0.99219\u001b[0m    learningRate: \u001b[1m\u001b[37m0.001\u001b[0m      \n",
      "losses: \u001b[1m\u001b[32m0.01513\u001b[0m    validation: \u001b[1m\u001b[33m0.00093\u001b[0m    accuracy: \u001b[1m\u001b[31m1.0\u001b[0m        learningRate: \u001b[1m\u001b[37m0.001\u001b[0m      \n",
      "losses: \u001b[1m\u001b[31m0.01652\u001b[0m    validation: \u001b[1m\u001b[33m0.00063\u001b[0m    accuracy: \u001b[1m\u001b[31m0.99219\u001b[0m    learningRate: \u001b[1m\u001b[37m0.001\u001b[0m      \n",
      "losses: \u001b[1m\u001b[32m0.01455\u001b[0m    validation: \u001b[1m\u001b[31m0.00183\u001b[0m    accuracy: \u001b[1m\u001b[31m0.99219\u001b[0m    learningRate: \u001b[1m\u001b[37m0.001\u001b[0m      \n",
      "losses: \u001b[1m\u001b[32m0.01375\u001b[0m    validation: \u001b[1m\u001b[31m0.01747\u001b[0m    accuracy: \u001b[1m\u001b[31m0.95312\u001b[0m    learningRate: \u001b[1m\u001b[37m0.001\u001b[0m      \n",
      "losses: \u001b[1m\u001b[32m0.013\u001b[0m      validation: \u001b[1m\u001b[33m0.00106\u001b[0m    accuracy: \u001b[1m\u001b[31m1.0\u001b[0m        learningRate: \u001b[1m\u001b[37m0.001\u001b[0m      \n",
      "losses: \u001b[1m\u001b[32m0.01298\u001b[0m    validation: \u001b[1m\u001b[33m0.00816\u001b[0m    accuracy: \u001b[1m\u001b[31m0.98438\u001b[0m    learningRate: \u001b[1m\u001b[37m0.001\u001b[0m      \n",
      "losses: \u001b[1m\u001b[32m0.01154\u001b[0m    validation: \u001b[1m\u001b[33m0.00069\u001b[0m    accuracy: \u001b[1m\u001b[31m1.0\u001b[0m        learningRate: \u001b[1m\u001b[37m0.001\u001b[0m      \n",
      "losses: \u001b[1m\u001b[32m0.01128\u001b[0m    validation: \u001b[1m\u001b[33m0.00103\u001b[0m    accuracy: \u001b[1m\u001b[31m1.0\u001b[0m        learningRate: \u001b[1m\u001b[37m0.001\u001b[0m      \n"
     ]
    }
   ],
   "source": [
    "for i in range(epochs):\n",
    "    data.trainMode()\n",
    "    network.train()\n",
    "    length = len(data.trainSet)\n",
    "    bar = Progressbar(f'epoch {str(i+1).zfill(len(str(epochs)))}/{epochs}', length)\n",
    "    for item in data.train:\n",
    "        inputs = item.data\n",
    "        labels = item.labels\n",
    "        prediction = network(inputs)\n",
    "        loss = lossFunc(prediction, labels)\n",
    "        metrics.update('losses', loss, len(inputs) * (data.kFold - 1))\n",
    "        gradient = lossFunc.backward()\n",
    "        optim.step(gradient)\n",
    "        bar.step()\n",
    "    metrics.update('learningRate', optim.learningRate)\n",
    "    data.evalMode()\n",
    "    network.eval()\n",
    "    for item in data.train:\n",
    "        inputs = item.data\n",
    "        labels = item.labels\n",
    "        prediction = network(inputs)\n",
    "        loss = lossFunc(prediction, labels)\n",
    "        metrics.update('validation', loss, len(inputs))\n",
    "        accuracy = np.sum(prediction.argmax(1) == labels.argmax(1)) / len(prediction)\n",
    "        bar.step()\n",
    "    if schedulerBool:\n",
    "        scheduler.step()\n",
    "    metrics.update('accuracy', accuracy)\n",
    "    metrics.print()\n",
    "    metrics.step()\n",
    "    data.fold()"
   ]
  },
  {
   "cell_type": "code",
   "execution_count": 11,
   "metadata": {},
   "outputs": [
    {
     "data": {
      "image/png": "[encoded data removed]",
      "text/plain": [
       "<Figure size 640x480 with 2 Axes>"
      ]
     },
     "metadata": {},
     "output_type": "display_data"
    }
   ],
   "source": [
    "fig, ax = plt.subplots()\n",
    "ax3 = ax.twinx()\n",
    "lns1 = ax.plot(metrics.losses.values, label='Train Loss')\n",
    "lns2 = ax.plot(metrics.validation.values, label='Eval Loss')\n",
    "lns3 = ax.plot(metrics.accuracy.values, label='Accuracy')\n",
    "lns4 = ax3.plot(metrics.learningRate.values, label='learning rate', color='tab:gray', ls='--')\n",
    "\n",
    "lns = lns1+lns2+lns3+lns4\n",
    "labs = [lab.get_label() for lab in lns]\n",
    "ax.legend(lns, labs)\n",
    "\n",
    "ax.grid(ls=':')"
   ]
  },
  {
   "cell_type": "code",
   "execution_count": 12,
   "metadata": {},
   "outputs": [
    {
     "name": "stdout",
     "output_type": "stream",
     "text": [
      "evaluation |\u001b[0m\u001b[32m⣿⣿⣿⣿⣿⣿⣿⣿⣿⣿⣿⣿⣿⣿⣿⣿⣿⣿⣿⣿⣿⣿⣿⣿⣿⣿⣿⣿⣿⣿⣿⣿⣿⣿⣿⣿⣿⣿⣿\u001b[0m\u001b[0m\u001b[32m \u001b[0m          | 78%\r"
     ]
    },
    {
     "name": "stdout",
     "output_type": "stream",
     "text": [
      "evaluation |⣿⣿⣿⣿⣿⣿⣿⣿⣿⣿⣿⣿⣿⣿⣿⣿⣿⣿⣿⣿⣿⣿⣿⣿⣿⣿⣿⣿⣿⣿⣿⣿⣿⣿⣿⣿⣿⣿⣿⣿⣿⣿⣿⣿⣿⣿⣿⣿⣿⣿| done ✔[0m\u001b[0m\u001b[32m \u001b[0m | 96%\n"
     ]
    }
   ],
   "source": [
    "confusion = ConfusionMatrix(categories)\n",
    "network.eval()\n",
    "length = len(data.eval)\n",
    "bar = Progressbar('evaluation', length)\n",
    "for item in data.eval:\n",
    "    inputs = item.data\n",
    "    labels = item.labels\n",
    "    prediction = network(inputs)\n",
    "    confusion.update(prediction, labels)\n",
    "    bar.step()\n",
    "confusion.percentages()\n",
    "confusion.calcScores()"
   ]
  },
  {
   "cell_type": "code",
   "execution_count": 13,
   "metadata": {},
   "outputs": [
    {
     "name": "stdout",
     "output_type": "stream",
     "text": [
      "━━━━━━━━━━━━━━━━━━━━━━━━ evaluation ━━━━━━━━━━━━━━━━━━━━━━━━\n",
      "————————————————————— confusion matrix —————————————————————\n",
      "              Class 0     Class 1     Class 2     Class 3   \n",
      "····························································\n",
      "     Class 0    3192         1           7           0      \n",
      "                24%          0%          0%          0%     \n",
      "····························································\n",
      "     Class 1     1          3170         0           29     \n",
      "                 0%         24%          0%          0%     \n",
      "····························································\n",
      "     Class 2     1           0          3198         1      \n",
      "                 0%          0%         24%          0%     \n",
      "····························································\n",
      "     Class 3     0           0           0          3200    \n",
      "                 0%          0%          0%         25%     \n",
      "\n",
      "———————————————————————————————— scores ———————————————————————————————\n",
      "                accuracy       precision      sensitivity      miss rate    \n",
      "·······································································\n",
      "     Class 0     0.999           0.999           0.998           0.003      \n",
      "     Class 1     0.998            1.0            0.991           0.009      \n",
      "     Class 2     0.999           0.998           0.999           0.001      \n",
      "     Class 3     0.998           0.991            1.0             0.0       \n",
      "·······································································\n",
      "       total     0.998           0.997           0.997           0.003      \n"
     ]
    }
   ],
   "source": [
    "print(confusion)"
   ]
  },
  {
   "attachments": {},
   "cell_type": "markdown",
   "metadata": {},
   "source": [
    "## Saving and Loading a Sequential\n",
    "\n",
    "Sequentilas can be converted to dictionaries and then saved as a json file. This allows us to load them and re-use them. Also json is a raw text format, which is neat."
   ]
  },
  {
   "cell_type": "code",
   "execution_count": 14,
   "metadata": {},
   "outputs": [
    {
     "name": "stdout",
     "output_type": "stream",
     "text": [
      "(0) Unsqueeze    into shape: (1, 9, 9)\n",
      "(1) Convolution2D    input channels: 1    output channels: 3    kernel size: [3, 3]    padding: [0, 0]    stride: [1, 1]\n",
      "(2) Tanh\n",
      "(3) Flatten\n",
      "(4) Linear    input size: 147    output size: 147\n",
      "(5) Dropout    size: 147    probability: 0.35\n",
      "(6) Tanh\n",
      "(7) Linear    input size: 147    output size: 147\n",
      "(8) Dropout    size: 147    probability: 0.35\n",
      "(9) Tanh\n",
      "(10) Linear    input size: 147    output size: 147\n",
      "(11) Dropout    size: 147    probability: 0.35\n",
      "(12) Tanh\n",
      "(13) Linear    input size: 147    output size: 147\n",
      "(14) Dropout    size: 147    probability: 0.35\n",
      "(15) Tanh\n",
      "(16) Linear    input size: 147    output size: 4\n",
      "(17) SoftMax\n",
      "\n"
     ]
    }
   ],
   "source": [
    "ModelIO.save(network, 'network-test')\n",
    "newNetwork = ModelIO.load('network-test')\n",
    "print(newNetwork)"
   ]
  },
  {
   "cell_type": "code",
   "execution_count": 15,
   "metadata": {},
   "outputs": [
    {
     "name": "stdout",
     "output_type": "stream",
     "text": [
      "evaluation |\u001b[0m\u001b[31m⣿\u001b[0m\u001b[0m\u001b[31m \u001b[0m                                                | 02%\r"
     ]
    },
    {
     "name": "stdout",
     "output_type": "stream",
     "text": [
      "evaluation |⣿⣿⣿⣿⣿⣿⣿⣿⣿⣿⣿⣿⣿⣿⣿⣿⣿⣿⣿⣿⣿⣿⣿⣿⣿⣿⣿⣿⣿⣿⣿⣿⣿⣿⣿⣿⣿⣿⣿⣿⣿⣿⣿⣿⣿⣿⣿⣿⣿⣿| done ✔[0m\u001b[0m\u001b[32m \u001b[0m | 96%\n",
      "━━━━━━━━━━━━━━━━━━━━━━━━ evaluation ━━━━━━━━━━━━━━━━━━━━━━━━\n",
      "————————————————————— confusion matrix —————————————————————\n",
      "              Class 0     Class 1     Class 2     Class 3   \n",
      "····························································\n",
      "     Class 0    3192         1           7           0      \n",
      "                24%          0%          0%          0%     \n",
      "····························································\n",
      "     Class 1     1          3170         0           29     \n",
      "                 0%         24%          0%          0%     \n",
      "····························································\n",
      "     Class 2     1           0          3198         1      \n",
      "                 0%          0%         24%          0%     \n",
      "····························································\n",
      "     Class 3     0           0           0          3200    \n",
      "                 0%          0%          0%         25%     \n",
      "\n",
      "———————————————————————————————— scores ———————————————————————————————\n",
      "                accuracy       precision      sensitivity      miss rate    \n",
      "·······································································\n",
      "     Class 0     0.999           0.999           0.998           0.003      \n",
      "     Class 1     0.998            1.0            0.991           0.009      \n",
      "     Class 2     0.999           0.998           0.999           0.001      \n",
      "     Class 3     0.998           0.991            1.0             0.0       \n",
      "·······································································\n",
      "       total     0.998           0.997           0.997           0.003      \n"
     ]
    }
   ],
   "source": [
    "newConfusion = ConfusionMatrix(categories)\n",
    "newNetwork.eval()\n",
    "length = len(data.eval)\n",
    "bar = Progressbar('evaluation', length)\n",
    "for item in data.eval:\n",
    "    inputs = item.data\n",
    "    labels = item.labels\n",
    "    prediction = newNetwork(inputs)\n",
    "    newConfusion.update(prediction, labels)\n",
    "    bar.step()\n",
    "newConfusion.percentages()\n",
    "newConfusion.calcScores()\n",
    "print(newConfusion)"
   ]
  },
  {
   "cell_type": "markdown",
   "metadata": {},
   "source": [
    "## Quantization"
   ]
  },
  {
   "cell_type": "code",
   "execution_count": 16,
   "metadata": {},
   "outputs": [],
   "source": [
    "quantizer = Quantizer(scheme='symmetric')\n",
    "quantizedModule = quantizer(network)\n",
    "quantizer.addQuantizeLayer(quantizedModule)"
   ]
  },
  {
   "cell_type": "code",
   "execution_count": 17,
   "metadata": {},
   "outputs": [],
   "source": [
    "fakeInput = np.random.randint(0,255,(4,147))"
   ]
  },
  {
   "cell_type": "code",
   "execution_count": 18,
   "metadata": {},
   "outputs": [
    {
     "data": {
      "text/plain": [
       "array([[ -7,  -7,   7, ...,  15, -42,  23],\n",
       "       [  1,  -7, -10, ...,  -3, -17,  12],\n",
       "       [-16,  -5,   2, ...,   0,  -3,  20],\n",
       "       ...,\n",
       "       [  8, -20, -16, ...,  36, -19,   9],\n",
       "       [ 12, -13, -10, ..., -12, -36,  18],\n",
       "       [ 11, -14, -27, ...,  19, -17,   9]], dtype=int32)"
      ]
     },
     "execution_count": 18,
     "metadata": {},
     "output_type": "execute_result"
    }
   ],
   "source": [
    "quantizedModule[6].weights.values"
   ]
  },
  {
   "cell_type": "code",
   "execution_count": 19,
   "metadata": {},
   "outputs": [
    {
     "data": {
      "text/plain": [
       "array([[ 107046, -127313,  -60812, -253564,  254273,  -90999, -210162,\n",
       "        -129062,   91877,  -57847,  -79087,  227730, -287145, -146833,\n",
       "         -51334,   35164, -213130, -222574, -117684, -288538, -129015,\n",
       "          56632,   42171,   -2270, -100574,   67973,   34296,  265109,\n",
       "         -10353,  158564,  -64287,  103533,  -77174,  -76748, -133277,\n",
       "         222454, -222701,   44634, -120085,  -54471,  140314, -249767,\n",
       "         -75681,   32365,   71243,   45702,  -37994, -270511,    2556,\n",
       "         -52382,    2136, -199430,  215773,   59031, -251763,   56579,\n",
       "         170038,   -4857,  162373, -131315,  -99432, -164802,  251620,\n",
       "         -17751,   39198,   85264,   13333,  -49348,  142411,   -2692,\n",
       "         259390,  111965,  102611, -192490,  -66971,  -60267, -135138,\n",
       "        -215928,  160342,   59752, -270400,   21920,    3981,   67359,\n",
       "         224517,  176747,  100451,   96596,  -11086,  135579,  -18238,\n",
       "         -67520, -115459, -254757,   61731,   24313, -237876,  203624,\n",
       "          93882,  -50275,  -89371, -269513,   -7290,   31981,  118557,\n",
       "         -96705,  -39450, -113145,  -67363,   -8949,  251014,   66470,\n",
       "          20789,  106064, -289692, -250588,  -13105,  235603, -182747,\n",
       "        -255633,  138225, -162680,   77893,  204306,  105172, -244408,\n",
       "          86411, -206668,   18144,   17797,  -53559,   10302,  179977,\n",
       "         -89941,   18657,   45258,   91240,  -32618, -104121, -124578,\n",
       "          96122,  -11034,   34496,  -66084,   93830, -269358,   92351],\n",
       "       [ 112364, -149555,  -83911, -281334,  263794,  -99118, -208133,\n",
       "        -109275,  107839,  -87317,  -40578,  258818, -289298, -121367,\n",
       "         -61517,   62921, -221539, -241843, -143133, -314947, -136006,\n",
       "          52498,   66156,  -27217,  -84948,  124519,   75343,  291827,\n",
       "            167,  196388, -123087,  121114,  -33137,  -58401, -161505,\n",
       "         172277, -227830,   30241, -129230,  -77959,  168627, -267880,\n",
       "         -75201,   78888,  114208,   59576,  -66114, -275183,  -37816,\n",
       "         -85900,   34278, -231537,  206628,   60742, -265227,   77065,\n",
       "         202555,   25647,  189620,  -25843, -140621, -167345,  257803,\n",
       "           5565,   59372,   98499,   37257,  -76287,  154185,   -6968,\n",
       "         277203,  134735,  152749, -233232,  -80970,  -71276, -181584,\n",
       "        -237505,  161866,   77013, -273633,   43831,   18266,   72454,\n",
       "         239414,  205619,  108412,  136309,  -42779,  161821,   24758,\n",
       "         -85527,  -13119, -277746,   50694,  -22946, -265958,  213844,\n",
       "         104680,  -80962,  -44872, -283663,  -15286,    3236,  142084,\n",
       "        -122426,  -55690, -120923,  -65027,  -42533,  266149,   25956,\n",
       "          21681,   88993, -310916, -266531,  -30725,  255041, -203585,\n",
       "        -278905,  160769, -181469,   86485,  227065,  107135, -252784,\n",
       "         107993, -217153,   49006,  -24531,  -74555,   10169,  195226,\n",
       "         -48870,   60195,   96826,  136407,  -41780, -149020, -141326,\n",
       "         108709,  -42398,   63779,  -77153,   59057, -292243,  123567],\n",
       "       [  68496, -123359,  -33371, -298320,  261091,  -61960, -200781,\n",
       "        -110197,  103029,  -65429,  -70350,  224040, -289652, -117755,\n",
       "         -10413,   53465, -220742, -259181, -109849, -315739, -152979,\n",
       "          92322,   29548,   13172,  -77595,  100632,   42798,  285489,\n",
       "           5492,  177742,  -66808,  101610,  -59287,  -43097, -154629,\n",
       "         161091, -225111,   36443,  -97018,  -28038,  159629, -272641,\n",
       "         -15232,   45508,   85490,   32544,  -44977, -274869,   17144,\n",
       "         -49859,   41952, -218406,  201215,  -38124, -261979,   38549,\n",
       "         193353,  -21078,  162948,  -38098,  -96333, -156048,  241940,\n",
       "         -10586,   26874,   68619,   20166,  -47206,  121565,   -5405,\n",
       "         279244,  105769,  119581, -215963,  -43795,  -54869, -235716,\n",
       "        -230748,  157438,   27139, -287536,   27603,     756,   55547,\n",
       "         243186,  197072,   99233,   96926,   -1155,  129711,  -34643,\n",
       "         -75549,  -49687, -266556,   71940,    3698, -280983,  202350,\n",
       "          83099,  -60445,  -52997, -286181,   16273,   41342,  105037,\n",
       "         -97426,  -34523,  -72705,  -26196,   -8348,  271743,   48229,\n",
       "           -635,  102431, -312729, -259106,   10279,  255703, -209558,\n",
       "        -276321,  161757, -158615,   78609,  230076,   92815, -254212,\n",
       "          76888, -223001,   11172,  -14217,  -29727,   -5893,  203192,\n",
       "         -87780,   31687,  100786,   97322,   -4783, -107504, -110824,\n",
       "          82507,    4435,   42408,  -55412,   59498, -286961,   81588],\n",
       "       [  54760, -122775,  -24896, -263848,  243806,  -78404, -203477,\n",
       "        -125545,   70738,  -36822,  -74180,  249101, -299184, -135100,\n",
       "          10508,   35404, -222644, -235467, -140071, -303203, -146171,\n",
       "          78197,   24888,    3991, -112674,   93689,   38753,  263093,\n",
       "           5195,  167572,  -57476,   98473,  -61077,  -79710, -169135,\n",
       "         146012, -221227,   43524, -108526,  -37263,  120374, -250591,\n",
       "         -20728,   32209,   93160,   25627,  -38209, -277013,  -14532,\n",
       "         -55008,   -8408, -221435,  223698,   16365, -248311,    7514,\n",
       "         202350,    9863,  139880,  -60810, -114453, -148111,  252805,\n",
       "         -23619,   37537,   83013,   18142,  -49194,  105447,    1410,\n",
       "         266506,   86603,  114900, -179614,  -37044,  -45327, -141836,\n",
       "        -217080,  163748,   47461, -264165,   10164,    2600,   88375,\n",
       "         235454,  164553,   97735,   96378,  -16928,  121150,  -16098,\n",
       "         -51430,  -61468, -246078,   50670,    7304, -261616,  171119,\n",
       "          75850,  -71954,  -60797, -267795,  -12029,   23264,  118749,\n",
       "        -104870,  -14087,  -69897,    3861,    5316,  257742,   46917,\n",
       "          28344,   48102, -296619, -244179,   17395,  251850, -177762,\n",
       "        -266812,  170467, -144278,   85749,  227185,   92959, -252332,\n",
       "          83279, -205520,  -13071,    3528,  -30405,   29413,  198738,\n",
       "         -48197,   20002,   47749,   78518,    1916, -120070,  -86219,\n",
       "          72762,   19723,   19247,  -38809,   74102, -283428,   64824]])"
      ]
     },
     "execution_count": 19,
     "metadata": {},
     "output_type": "execute_result"
    }
   ],
   "source": [
    "quantizedModule[6](fakeInput)"
   ]
  },
  {
   "cell_type": "code",
   "execution_count": 20,
   "metadata": {},
   "outputs": [
    {
     "data": {
      "text/plain": [
       "array([[ 261, -310, -148, -617,  619, -221, -511, -314,  224, -141, -192,\n",
       "         554, -699, -357, -125,   86, -519, -542, -286, -702, -314,  138,\n",
       "         103,   -6, -245,  165,   83,  645,  -25,  386, -156,  252, -188,\n",
       "        -187, -324,  541, -542,  109, -292, -133,  341, -608, -184,   79,\n",
       "         173,  111,  -92, -658,    6, -127,    5, -485,  525,  144, -613,\n",
       "         138,  414,  -12,  395, -320, -242, -401,  612,  -43,   95,  207,\n",
       "          32, -120,  347,   -7,  631,  272,  250, -468, -163, -147, -329,\n",
       "        -525,  390,  145, -658,   53,   10,  164,  546,  430,  244,  235,\n",
       "         -27,  330,  -44, -164, -281, -620,  150,   59, -579,  496,  228,\n",
       "        -122, -217, -656,  -18,   78,  289, -235,  -96, -275, -164,  -22,\n",
       "         611,  162,   51,  258, -705, -610,  -32,  573, -445, -622,  336,\n",
       "        -396,  190,  497,  256, -595,  210, -503,   44,   43, -130,   25,\n",
       "         438, -219,   45,  110,  222,  -79, -253, -303,  234,  -27,   84,\n",
       "        -161,  228, -656,  225],\n",
       "       [ 273, -364, -204, -685,  642, -241, -507, -266,  262, -212,  -99,\n",
       "         630, -704, -295, -150,  153, -539, -589, -348, -766, -331,  128,\n",
       "         161,  -66, -207,  303,  183,  710,    0,  478, -300,  295,  -81,\n",
       "        -142, -393,  419, -554,   74, -314, -190,  410, -652, -183,  192,\n",
       "         278,  145, -161, -670,  -92, -209,   83, -563,  503,  148, -645,\n",
       "         188,  493,   62,  461,  -63, -342, -407,  627,   14,  144,  240,\n",
       "          91, -186,  375,  -17,  675,  328,  372, -568, -197, -173, -442,\n",
       "        -578,  394,  187, -666,  107,   44,  176,  583,  500,  264,  332,\n",
       "        -104,  394,   60, -208,  -32, -676,  123,  -56, -647,  520,  255,\n",
       "        -197, -109, -690,  -37,    8,  346, -298, -136, -294, -158, -104,\n",
       "         648,   63,   53,  217, -757, -649,  -75,  621, -495, -679,  391,\n",
       "        -442,  210,  553,  261, -615,  263, -528,  119,  -60, -181,   25,\n",
       "         475, -119,  146,  236,  332, -102, -363, -344,  265, -103,  155,\n",
       "        -188,  144, -711,  301],\n",
       "       [ 167, -300,  -81, -726,  635, -151, -489, -268,  251, -159, -171,\n",
       "         545, -705, -287,  -25,  130, -537, -631, -267, -768, -372,  225,\n",
       "          72,   32, -189,  245,  104,  695,   13,  433, -163,  247, -144,\n",
       "        -105, -376,  392, -548,   89, -236,  -68,  388, -663,  -37,  111,\n",
       "         208,   79, -109, -669,   42, -121,  102, -532,  490,  -93, -638,\n",
       "          94,  471,  -51,  397,  -93, -234, -380,  589,  -26,   65,  167,\n",
       "          49, -115,  296,  -13,  680,  257,  291, -526, -107, -134, -574,\n",
       "        -562,  383,   66, -700,   67,    2,  135,  592,  480,  241,  236,\n",
       "          -3,  316,  -84, -184, -121, -649,  175,    9, -684,  492,  202,\n",
       "        -147, -129, -696,   40,  101,  256, -237,  -84, -177,  -64,  -20,\n",
       "         661,  117,   -2,  249, -761, -631,   25,  622, -510, -672,  394,\n",
       "        -386,  191,  560,  226, -619,  187, -543,   27,  -35,  -72,  -14,\n",
       "         494, -214,   77,  245,  237,  -12, -262, -270,  201,   11,  103,\n",
       "        -135,  145, -698,  199],\n",
       "       [ 133, -299,  -61, -642,  593, -191, -495, -306,  172,  -90, -181,\n",
       "         606, -728, -329,   26,   86, -542, -573, -341, -738, -356,  190,\n",
       "          61,   10, -274,  228,   94,  640,   13,  408, -140,  240, -149,\n",
       "        -194, -412,  355, -538,  106, -264,  -91,  293, -610,  -50,   78,\n",
       "         227,   62,  -93, -674,  -35, -134,  -20, -539,  544,   40, -604,\n",
       "          18,  492,   24,  340, -148, -279, -360,  615,  -57,   91,  202,\n",
       "          44, -120,  257,    3,  649,  211,  280, -437,  -90, -110, -345,\n",
       "        -528,  398,  116, -643,   25,    6,  215,  573,  400,  238,  235,\n",
       "         -41,  295,  -39, -125, -150, -599,  123,   18, -637,  416,  185,\n",
       "        -175, -148, -652,  -29,   57,  289, -255,  -34, -170,    9,   13,\n",
       "         627,  114,   69,  117, -722, -594,   42,  613, -433, -649,  415,\n",
       "        -351,  209,  553,  226, -614,  203, -500,  -32,    9,  -74,   72,\n",
       "         484, -117,   49,  116,  191,    5, -292, -210,  177,   48,   47,\n",
       "         -94,  180, -690,  158]], dtype=int32)"
      ]
     },
     "execution_count": 20,
     "metadata": {},
     "output_type": "execute_result"
    }
   ],
   "source": [
    "quantizedModule[7](quantizedModule[6](fakeInput))"
   ]
  },
  {
   "cell_type": "code",
   "execution_count": 21,
   "metadata": {},
   "outputs": [
    {
     "name": "stdout",
     "output_type": "stream",
     "text": [
      "(0) Quantize    bits: 8    scale: 1    zeroPoint: 0    scheme: symmetric\n",
      "(1) Unsqueeze    into shape: (1, 9, 9)\n",
      "(2) Convolution2D    input channels: 1    output channels: 3    kernel size: (3, 3)    padding: (0, 0)    stride: (1, 1)\n",
      "(3) Accumulator    bits: 8    scale: 390.1296471075645    zeroPoint: 0    scheme: symmetric\n",
      "(4) Tanh\n",
      "(5) Flatten\n",
      "(6) Linear    input size: 147    output size: 147\n",
      "(7) Accumulator    bits: 8    scale: 410.91576668623816    zeroPoint: 0    scheme: symmetric\n",
      "(8) Dropout    size: 147    probability: 0.35\n",
      "(9) Tanh\n",
      "(10) Linear    input size: 147    output size: 147\n",
      "(11) Accumulator    bits: 8    scale: 252.2253183173983    zeroPoint: 0    scheme: symmetric\n",
      "(12) Dropout    size: 147    probability: 0.35\n",
      "(13) Tanh\n",
      "(14) Linear    input size: 147    output size: 147\n",
      "(15) Accumulator    bits: 8    scale: 356.3746548033485    zeroPoint: 0    scheme: symmetric\n",
      "(16) Dropout    size: 147    probability: 0.35\n",
      "(17) Tanh\n",
      "(18) Linear    input size: 147    output size: 147\n",
      "(19) Accumulator    bits: 8    scale: 356.3761242745962    zeroPoint: 0    scheme: symmetric\n",
      "(20) Dropout    size: 147    probability: 0.35\n",
      "(21) Tanh\n",
      "(22) Linear    input size: 147    output size: 4\n",
      "(23) SoftMax\n",
      "\n"
     ]
    }
   ],
   "source": [
    "print(quantizedModule)"
   ]
  },
  {
   "cell_type": "code",
   "execution_count": null,
   "metadata": {},
   "outputs": [],
   "source": []
  },
  {
   "cell_type": "code",
   "execution_count": 22,
   "metadata": {},
   "outputs": [
    {
     "name": "stdout",
     "output_type": "stream",
     "text": [
      "evaluation |\u001b[0m\u001b[31m⣿⣿⣿⣿⣿⣿⣿\u001b[0m\u001b[0m\u001b[31m \u001b[0m                                          | 14%\r"
     ]
    },
    {
     "name": "stdout",
     "output_type": "stream",
     "text": [
      "evaluation |⣿⣿⣿⣿⣿⣿⣿⣿⣿⣿⣿⣿⣿⣿⣿⣿⣿⣿⣿⣿⣿⣿⣿⣿⣿⣿⣿⣿⣿⣿⣿⣿⣿⣿⣿⣿⣿⣿⣿⣿⣿⣿⣿⣿⣿⣿⣿⣿⣿⣿| done ✔[0m\u001b[0m\u001b[32m \u001b[0m | 96%\n",
      "————————————————————— confusion matrix —————————————————————\n",
      "              Class 0     Class 1     Class 2     Class 3   \n",
      "····························································\n",
      "     Class 0     0           0          3200         0      \n",
      "                 0%          0%         25%          0%     \n",
      "····························································\n",
      "     Class 1     0           0          3200         0      \n",
      "                 0%          0%         25%          0%     \n",
      "····························································\n",
      "     Class 2     0           0          3200         0      \n",
      "                 0%          0%         25%          0%     \n",
      "····························································\n",
      "     Class 3     0           0          3200         0      \n",
      "                 0%          0%         25%          0%     \n",
      "\n"
     ]
    }
   ],
   "source": [
    "quantConfusion = ConfusionMatrix(categories)\n",
    "quantizedModule.eval()\n",
    "length = len(data.eval)\n",
    "bar = Progressbar('evaluation', length)\n",
    "for item in data.eval:\n",
    "    inputs = item['data']\n",
    "    labels = item['labels']\n",
    "    prediction = quantizedModule(inputs)\n",
    "    quantConfusion.update(prediction, labels)\n",
    "    bar.step()\n",
    "quantConfusion.percentages()\n",
    "quantConfusion.calcScores()\n",
    "print(quantConfusion)"
   ]
  },
  {
   "attachments": {},
   "cell_type": "markdown",
   "metadata": {},
   "source": [
    "## Comment\n",
    "\n",
    "The network works in principle and thanks to numpy, which is running on openblas, it even utilises multiple cores. I've added jupyter widgets to set network parameters.\n",
    "The post training quantization (PTQ) doesn't shoot errors, but actually doesn't work yet, the network still runs fully unquantized."
   ]
  }
 ],
 "metadata": {
  "kernelspec": {
   "display_name": "Python 3",
   "language": "python",
   "name": "python3"
  },
  "language_info": {
   "codemirror_mode": {
    "name": "ipython",
    "version": 3
   },
   "file_extension": ".py",
   "mimetype": "text/x-python",
   "name": "python",
   "nbconvert_exporter": "python",
   "pygments_lexer": "ipython3",
   "version": "3.12.2"
  },
  "vscode": {
   "interpreter": {
    "hash": "1a1af0ee75eeea9e2e1ee996c87e7a2b11a0bebd85af04bb136d915cefc0abce"
   }
  }
 },
 "nbformat": 4,
 "nbformat_minor": 2
}
